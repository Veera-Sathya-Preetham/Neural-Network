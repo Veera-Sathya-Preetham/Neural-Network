{
  "cells": [
    {
      "cell_type": "code",
      "execution_count": null,
      "metadata": {
        "colab": {
          "base_uri": "https://localhost:8080/"
        },
        "id": "RJt8-7ZiAv7M",
        "outputId": "5a3073c2-c488-4540-aff1-e1f6107fe748"
      },
      "outputs": [
        {
          "name": "stdout",
          "output_type": "stream",
          "text": [
            "Enter your first name: Preetham\n",
            "Enter your last name: Samatham\n",
            "Full Name: Preetham Samatham\n",
            "Peta aahm\n"
          ]
        }
      ],
      "source": [
        "def fullname(first_name, last_name): #definging the function\n",
        "  full_name = first_name + \" \" + last_name #concatinating the first name and last name\n",
        "  return full_name #returing the function\n",
        "\n",
        "first_name = input(\"Enter your first name: \") #Getting the input from user\n",
        "last_name = input(\"Enter your last name: \")\n",
        "\n",
        "full_name = fullname(first_name, last_name) #Calling function\n",
        "print(\"Full Name:\", full_name) #Printing the output\n",
        "\n",
        "def string_alternative(name): #defining the function\n",
        "  new_str = \"\"\n",
        "  for i in range(0,len(name),2): #using loop with step count 2\n",
        "    new_str += name[i] #adding the value to new string\n",
        "  return new_str #returning the function\n",
        "\n",
        "print(string_alternative(full_name))\n"
      ]
    },
    {
      "cell_type": "code",
      "execution_count": null,
      "metadata": {
        "colab": {
          "base_uri": "https://localhost:8080/"
        },
        "id": "yuyrDgFDEL-B",
        "outputId": "be5c84d4-1f0c-4e25-9851-ad9947836b33"
      },
      "outputs": [
        {
          "name": "stdout",
          "output_type": "stream",
          "text": [
            "Word count completed. Check output.txt for results.\n"
          ]
        }
      ],
      "source": [
        "def word_count_in_file(input_file, output_file):\n",
        "    word_count = {}\n",
        "\n",
        "    with open(input_file, 'r') as infile: #Opening/Reading the file\n",
        "        lines = infile.readlines()\n",
        "\n",
        "    with open(output_file, 'w') as outfile: #Opening/Writing the file\n",
        "        for line in lines:\n",
        "            outfile.write(line)  # Write the original line to output file\n",
        "\n",
        "\n",
        "            words = line.split() # Split the line into words\n",
        "            for word in words:\n",
        "                word = word.strip().lower() # Convert the word to lowercase for case-insensitive counting\n",
        "                word_count[word] = word_count.get(word, 0) + 1 # Update the word count\n",
        "\n",
        "        # Write the word count to the output file\n",
        "        outfile.write(\"\\nWord_Count:\\n\")\n",
        "        for word, count in word_count.items():\n",
        "            outfile.write(f\"{word.capitalize()}: {count}\\n\")\n",
        "\n",
        "# Input and Output file paths\n",
        "input_file = 'input.txt'\n",
        "output_file = 'output.txt'\n",
        "\n",
        "# Run the word count function\n",
        "word_count_in_file(input_file, output_file)\n",
        "\n",
        "print(\"Word count completed. Check output.txt for results.\")"
      ]
    },
    {
      "cell_type": "code",
      "execution_count": null,
      "metadata": {
        "colab": {
          "background_save": true,
          "base_uri": "https://localhost:8080/"
        },
        "id": "y9lpPd7GO3YT",
        "outputId": "db5bead8-77ca-43b6-c3b4-80a28dcef8d0"
      },
      "outputs": [
        {
          "name": "stdout",
          "output_type": "stream",
          "text": [
            "[154, 123, 123]\n",
            "Output: [391.16, 312.42, 312.42]\n"
          ]
        }
      ],
      "source": [
        "L1 = []\n",
        "n = int(input(\"Enter number of inputs : \"))\n",
        "for i in range(0, n):\n",
        "  ele = int(input())\n",
        "  L1.append(ele)\n",
        "print(L1)\n",
        "\n",
        "cm = []\n",
        "for x in L1:\n",
        "  cm.append(round(x * 2.54, 2))\n",
        "print(\"Output:\",cm)\n",
        "\n",
        "# List comprehensions\n",
        "L1 = []\n",
        "n = int(input(\"Enter number of customers : \"))\n",
        "for i in range(0, n):\n",
        "  ele = int(input())\n",
        "  L1.append(ele)\n",
        "print(L1)\n",
        "\n",
        "cm = [round(x * 2.54,2) for x in L1]\n",
        "print(\"Output:\",cm)\n"
      ]
    }
  ],
  "metadata": {
    "colab": {
      "provenance": []
    },
    "kernelspec": {
      "display_name": "Python 3",
      "name": "python3"
    },
    "language_info": {
      "name": "python"
    }
  },
  "nbformat": 4,
  "nbformat_minor": 0
}